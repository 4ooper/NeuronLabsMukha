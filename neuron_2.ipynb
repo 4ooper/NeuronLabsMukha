{
  "nbformat": 4,
  "nbformat_minor": 0,
  "metadata": {
    "colab": {
      "provenance": []
    },
    "kernelspec": {
      "name": "python3",
      "display_name": "Python 3"
    },
    "language_info": {
      "name": "python"
    }
  },
  "cells": [
    {
      "cell_type": "code",
      "source": [
        "from google.colab import drive\n",
        "from PIL import Image\n",
        "import numpy as np\n",
        "drive.mount('/content/drive')"
      ],
      "metadata": {
        "colab": {
          "base_uri": "https://localhost:8080/"
        },
        "id": "itztFJ7pR7Pt",
        "outputId": "1265b70a-1e97-401f-dc5d-7a3c8fc214fa"
      },
      "execution_count": null,
      "outputs": [
        {
          "output_type": "stream",
          "name": "stdout",
          "text": [
            "Mounted at /content/drive\n"
          ]
        }
      ]
    },
    {
      "cell_type": "code",
      "source": [
        "import matplotlib.pyplot as plt\n",
        "\n",
        "path = '/content/drive/My Drive/man.png'\n",
        "test_img = Image.open(path)\n",
        "test_img = test_img.resize((5,5))\n",
        "test_img = test_img.convert('L')\n",
        "plt.imshow(test_img, cmap = 'gray')\n",
        "plt.show()\n",
        "test_x_man = np.array(test_img, np.float32)\n",
        "print(test_x_man.shape)\n",
        "test_x_man = test_x_man.reshape(-1,25)\n",
        "test_x_man = test_x_man / 255"
      ],
      "metadata": {
        "colab": {
          "base_uri": "https://localhost:8080/",
          "height": 283
        },
        "id": "o1e3kgSsWuJW",
        "outputId": "3d10f2fe-45e1-476d-843c-4d79f68e8515"
      },
      "execution_count": null,
      "outputs": [
        {
          "output_type": "display_data",
          "data": {
            "text/plain": [
              "<Figure size 432x288 with 1 Axes>"
            ],
            "image/png": "[encoded data removed]"
          },
          "metadata": {
            "needs_background": "light"
          }
        },
        {
          "output_type": "stream",
          "name": "stdout",
          "text": [
            "(5, 5)\n"
          ]
        }
      ]
    },
    {
      "cell_type": "code",
      "source": [
        "import matplotlib.pyplot as plt\n",
        "\n",
        "path = '/content/drive/My Drive/woman.png'\n",
        "test_img = Image.open(path)\n",
        "test_img = test_img.resize((5,5))\n",
        "test_img = test_img.convert('L')\n",
        "plt.imshow(test_img, cmap = 'gray')\n",
        "plt.show()\n",
        "\n",
        "test_x_woman = np.array(test_img, np.float32)\n",
        "test_x_woman = test_x_woman.reshape(-1,25)\n",
        "test_x_woman = test_x_woman / 255"
      ],
      "metadata": {
        "id": "j6Wj8cUYalWp",
        "colab": {
          "base_uri": "https://localhost:8080/",
          "height": 265
        },
        "outputId": "b9614f23-42a4-493a-cc61-e8281fdfa652"
      },
      "execution_count": null,
      "outputs": [
        {
          "output_type": "display_data",
          "data": {
            "text/plain": [
              "<Figure size 432x288 with 1 Axes>"
            ],
            "image/png": "[encoded data removed]"
          },
          "metadata": {
            "needs_background": "light"
          }
        }
      ]
    },
    {
      "cell_type": "code",
      "source": [
        "test_x_man = [a for b in test_x_man for a in b]\n",
        "test_x_woman = [a for b in test_x_woman for a in b]"
      ],
      "metadata": {
        "id": "Zc2Ew15yj-hl"
      },
      "execution_count": null,
      "outputs": []
    },
    {
      "cell_type": "code",
      "source": [
        "inputs = np.array([test_x_man, test_x_woman])\n",
        "trues = np.array([1, 0])\n",
        "print(inputs)"
      ],
      "metadata": {
        "colab": {
          "base_uri": "https://localhost:8080/"
        },
        "id": "CW8abNj0-0ZW",
        "outputId": "f42e11ad-ea77-47b7-9826-84f8df01e490"
      },
      "execution_count": null,
      "outputs": [
        {
          "output_type": "stream",
          "name": "stdout",
          "text": [
            "[[0.         0.         0.29803923 0.         0.         0.\n",
            "  0.         0.29803923 0.         0.         0.         0.\n",
            "  0.29803923 0.         0.         0.         0.29803923 0.\n",
            "  0.29803923 0.         0.29803923 0.         0.         0.\n",
            "  0.29803923]\n",
            " [0.         0.         0.29803923 0.         0.         0.\n",
            "  0.         0.29803923 0.         0.         0.         0.\n",
            "  0.29803923 0.         0.         0.         0.29803923 0.29803923\n",
            "  0.29803923 0.         0.29803923 0.29803923 0.29803923 0.29803923\n",
            "  0.29803923]]\n"
          ]
        }
      ]
    },
    {
      "cell_type": "code",
      "source": [
        "from random import seed\n",
        "from random import random\n",
        "\n",
        "def initialize_network(n_inputs, n_hidden, n_outputs):\n",
        "\tnetwork = list()\n",
        "\thidden_layer = [{'weights':[random() for i in range(n_inputs + 1)]} for i in range(n_hidden)]\n",
        "\tnetwork.append(hidden_layer)\n",
        "\toutput_layer = [{'weights':[random() for i in range(n_hidden + 1)]} for i in range(n_outputs)]\n",
        "\tnetwork.append(output_layer)\n",
        "\treturn network\n",
        "\n",
        "network = initialize_network(25, 1, 1)\n",
        "for layer in network:\n",
        "\tprint(layer)"
      ],
      "metadata": {
        "colab": {
          "base_uri": "https://localhost:8080/"
        },
        "id": "Ncpk31mD_SxN",
        "outputId": "211b532f-a247-42f8-ad97-bf89ce2d36a0"
      },
      "execution_count": null,
      "outputs": [
        {
          "output_type": "stream",
          "name": "stdout",
          "text": [
            "[{'weights': [0.5319654911655066, 0.028009449509481033, 0.24456780230178643, 0.08665265385501986, 0.36269888779641735, 0.11033090890825492, 0.23020509057298588, 0.4971580061222114, 0.7016473577302812, 0.5923066370618786, 0.9750500037807154, 0.7033510057167842, 0.3843217015624597, 0.9643377566207783, 0.938044945216246, 0.7666382408988887, 0.1751217485177723, 0.818393299863334, 0.5301073226663996, 0.3073684952230362, 0.4427922537383525, 0.14929644609133041, 0.8574244453388841, 0.07740492720599068, 0.17657456499988655, 0.9623579526348868]}]\n",
            "[{'weights': [0.8826282334189249, 0.606625524503779]}]\n"
          ]
        }
      ]
    },
    {
      "cell_type": "code",
      "source": [
        "import numpy as np\n",
        "import matplotlib.pyplot as plt\n",
        "\n",
        "class LinearNeuralNetwork(object):\n",
        "    def __init__(self, data, label,learing_rate,epoch):\n",
        "        self.data = data\n",
        "        self.label = label\n",
        "        self.learning_rate = learing_rate\n",
        "        self.W = (np.random.random(data.shape[1]) - 0.5) * 2\n",
        "        self.output = 0\n",
        "        self.epoch=epoch\n",
        "        \n",
        "        \n",
        "    # Обновить вес\n",
        "    def update(self, data, label):\n",
        "        self.output = np.dot(data, self.W.T)\n",
        "        # После усреднения сходимость быстрее\n",
        "        delta_W = self.learning_rate * ((label - (self.output).T).dot(data)) \n",
        "        self.W += delta_W\n",
        "        #self.output = np.sign(np.dot(self.W, data))\n",
        "    #подготовка\n",
        "    def fit(self, data, label):\n",
        "        n = 0\n",
        "        while n<self.epoch:\n",
        "            self.update(data, label)\n",
        "            o=np.sign(np.dot(data, self.W.T))# Формула неверна, это должны быть данные * W, а не W * данные. Результат другой\n",
        "            n += 1\n",
        "        print(\"epochs:\", n)\n",
        "        print(self.W)\n",
        "        print(\"output：\")\n",
        "        print(o)\n",
        "        return\n",
        "    # Набрать вес\n",
        "    def getW(self):\n",
        "        return self.W\n",
        "    # предсказание\n",
        "    def predict(self, testData):\n",
        "        return np.sign(np.dot(self.W, testData))\n",
        "if __name__ == '__main__':\n",
        "    #Входные данные\n",
        "    X = inputs\n",
        "    #этикетка\n",
        "    Y = trues\n",
        "    LNN=LinearNeuralNetwork(X,Y,0.11,10000)\n",
        "    LNN.fit(X,Y)\n",
        "    print(LNN.predict(test_x_man))\n",
        "    print(LNN.predict(test_x_woman))"
      ],
      "metadata": {
        "colab": {
          "base_uri": "https://localhost:8080/"
        },
        "id": "TvLl9aLeBI7K",
        "outputId": "01f6bec5-42c3-4862-868b-1b8201f308f5"
      },
      "execution_count": null,
      "outputs": [
        {
          "output_type": "stream",
          "name": "stdout",
          "text": [
            "epochs: 10000\n",
            "[ 0.17869542 -0.60379869  0.32222041 -0.40819248 -0.92488465 -0.93863032\n",
            " -0.09379     0.93971205  0.11459081 -0.2297728  -0.6638544   0.67652264\n",
            "  0.64808749  0.56542964  0.69701836  0.20632595  1.01210513 -0.64303934\n",
            " -0.50768572  0.50092922 -0.19793183 -0.95748468 -0.84826768 -0.90647132\n",
            "  1.13875549]\n",
            "output：\n",
            "[1. 1.]\n",
            "1.0\n",
            "1.0\n"
          ]
        }
      ]
    },
    {
      "cell_type": "code",
      "source": [
        "network = OurNeuralNetwork()"
      ],
      "metadata": {
        "colab": {
          "base_uri": "https://localhost:8080/"
        },
        "id": "TTWtSPbNTrsK",
        "outputId": "a864d00b-d59a-44c4-b501-3832c68336d5"
      },
      "execution_count": null,
      "outputs": [
        {
          "output_type": "stream",
          "name": "stdout",
          "text": [
            "[0.28909420380393497, -0.5398790713327012, 0.7081600199266035, 0.8422247383826557, 0.20358079732747866, 2.3947036648845352, 0.9174589375104293, -0.11227247119416003, -0.36218044714224007, -0.23218225594409092, -0.5017288995948672, 1.1287851531098774, -0.6978100304717146, -0.08112218381694614, -0.5292960809994882, 1.0461828568082643, -1.4185560292233947, -0.3624991831556408, -0.1219056911618885, 0.319356421091224, 0.4609029016717183, -0.21578989233052187, 0.9890724574994391, 0.3147537788117336, 2.467651056434603]\n",
            "25\n"
          ]
        }
      ]
    }
  ]
}